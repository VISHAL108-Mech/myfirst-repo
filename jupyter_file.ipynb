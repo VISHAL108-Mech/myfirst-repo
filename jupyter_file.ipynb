# This is a jupyter file.
